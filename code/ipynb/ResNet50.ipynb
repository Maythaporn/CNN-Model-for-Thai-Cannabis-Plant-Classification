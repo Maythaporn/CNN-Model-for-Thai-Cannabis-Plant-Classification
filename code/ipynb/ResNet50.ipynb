{
 "cells": [
  {
   "cell_type": "code",
   "execution_count": 2,
   "metadata": {},
   "outputs": [
    {
     "name": "stderr",
     "output_type": "stream",
     "text": [
      "2023-04-25 07:33:01.364138: I tensorflow/tsl/cuda/cudart_stub.cc:28] Could not find cuda drivers on your machine, GPU will not be used.\n",
      "2023-04-25 07:33:01.412697: I tensorflow/tsl/cuda/cudart_stub.cc:28] Could not find cuda drivers on your machine, GPU will not be used.\n",
      "2023-04-25 07:33:01.413495: I tensorflow/core/platform/cpu_feature_guard.cc:182] This TensorFlow binary is optimized to use available CPU instructions in performance-critical operations.\n",
      "To enable the following instructions: AVX2 AVX512F FMA, in other operations, rebuild TensorFlow with the appropriate compiler flags.\n",
      "2023-04-25 07:33:02.290768: W tensorflow/compiler/tf2tensorrt/utils/py_utils.cc:38] TF-TRT Warning: Could not find TensorRT\n"
     ]
    },
    {
     "name": "stdout",
     "output_type": "stream",
     "text": [
      "Found 1832 images belonging to 6 classes.\n",
      "Found 1832 images belonging to 6 classes.\n"
     ]
    },
    {
     "name": "stderr",
     "output_type": "stream",
     "text": [
      "2023-04-25 07:33:05.680550: I tensorflow/core/common_runtime/executor.cc:1197] [/device:CPU:0] (DEBUG INFO) Executor start aborting (this does not indicate an error and you can ignore this message): INVALID_ARGUMENT: You must feed a value for placeholder tensor 'Placeholder/_0' with dtype int32\n",
      "\t [[{{node Placeholder/_0}}]]\n"
     ]
    },
    {
     "name": "stdout",
     "output_type": "stream",
     "text": [
      "58/58 [==============================] - 69s 1s/step - loss: 2.8368 - accuracy: 0.1354\n",
      "Test accuracy: 0.13537117838859558\n",
      "Epoch 1/10\n"
     ]
    },
    {
     "name": "stderr",
     "output_type": "stream",
     "text": [
      "2023-04-25 07:34:16.448204: I tensorflow/core/common_runtime/executor.cc:1197] [/device:CPU:0] (DEBUG INFO) Executor start aborting (this does not indicate an error and you can ignore this message): INVALID_ARGUMENT: You must feed a value for placeholder tensor 'Placeholder/_0' with dtype int32\n",
      "\t [[{{node Placeholder/_0}}]]\n"
     ]
    },
    {
     "name": "stdout",
     "output_type": "stream",
     "text": [
      "58/58 [==============================] - ETA: 0s - loss: 53.2986 - accuracy: 0.2151"
     ]
    },
    {
     "name": "stderr",
     "output_type": "stream",
     "text": [
      "2023-04-25 07:36:05.923050: I tensorflow/core/common_runtime/executor.cc:1197] [/device:CPU:0] (DEBUG INFO) Executor start aborting (this does not indicate an error and you can ignore this message): INVALID_ARGUMENT: You must feed a value for placeholder tensor 'Placeholder/_0' with dtype int32\n",
      "\t [[{{node Placeholder/_0}}]]\n"
     ]
    },
    {
     "name": "stdout",
     "output_type": "stream",
     "text": [
      "58/58 [==============================] - 176s 3s/step - loss: 53.2986 - accuracy: 0.2151 - val_loss: 7.5928 - val_accuracy: 0.3100\n",
      "Epoch 2/10\n",
      "58/58 [==============================] - 175s 3s/step - loss: 6.2573 - accuracy: 0.3313 - val_loss: 2.5310 - val_accuracy: 0.5207\n",
      "Epoch 3/10\n",
      "58/58 [==============================] - 173s 3s/step - loss: 4.2839 - accuracy: 0.4132 - val_loss: 3.0655 - val_accuracy: 0.4864\n",
      "Epoch 4/10\n",
      "58/58 [==============================] - 174s 3s/step - loss: 3.0670 - accuracy: 0.4476 - val_loss: 1.6859 - val_accuracy: 0.5770\n",
      "Epoch 5/10\n",
      "58/58 [==============================] - 172s 3s/step - loss: 3.0952 - accuracy: 0.4787 - val_loss: 0.6326 - val_accuracy: 0.7817\n",
      "Epoch 6/10\n",
      "58/58 [==============================] - 173s 3s/step - loss: 1.5316 - accuracy: 0.5901 - val_loss: 1.2801 - val_accuracy: 0.6053\n",
      "Epoch 7/10\n",
      "58/58 [==============================] - 172s 3s/step - loss: 2.0832 - accuracy: 0.5344 - val_loss: 0.5805 - val_accuracy: 0.7893\n",
      "Epoch 8/10\n",
      "58/58 [==============================] - 167s 3s/step - loss: 1.1943 - accuracy: 0.6086 - val_loss: 0.3898 - val_accuracy: 0.8515\n",
      "Epoch 9/10\n",
      "58/58 [==============================] - 164s 3s/step - loss: 1.0902 - accuracy: 0.6310 - val_loss: 0.7355 - val_accuracy: 0.6758\n",
      "Epoch 10/10\n",
      "58/58 [==============================] - 171s 3s/step - loss: 1.0478 - accuracy: 0.6599 - val_loss: 0.7016 - val_accuracy: 0.7664\n"
     ]
    },
    {
     "name": "stderr",
     "output_type": "stream",
     "text": [
      "2023-04-25 08:02:54.493145: I tensorflow/core/common_runtime/executor.cc:1197] [/device:CPU:0] (DEBUG INFO) Executor start aborting (this does not indicate an error and you can ignore this message): INVALID_ARGUMENT: You must feed a value for placeholder tensor 'Placeholder/_0' with dtype int32\n",
      "\t [[{{node Placeholder/_0}}]]\n"
     ]
    },
    {
     "name": "stdout",
     "output_type": "stream",
     "text": [
      "58/58 [==============================] - 66s 1s/step - loss: 0.7016 - accuracy: 0.7664\n",
      "Test accuracy: 0.7663755416870117\n",
      "Test loss: 0.7015868425369263\n",
      "\n",
      "\n"
     ]
    },
    {
     "name": "stderr",
     "output_type": "stream",
     "text": [
      "2023-04-25 08:04:00.670044: I tensorflow/core/common_runtime/executor.cc:1197] [/device:CPU:0] (DEBUG INFO) Executor start aborting (this does not indicate an error and you can ignore this message): INVALID_ARGUMENT: You must feed a value for placeholder tensor 'Placeholder/_0' with dtype int32\n",
      "\t [[{{node Placeholder/_0}}]]\n"
     ]
    },
    {
     "name": "stdout",
     "output_type": "stream",
     "text": [
      "58/58 [==============================] - 68s 1s/step\n",
      "Confusion Matrix:\n",
      " [[74 91 90 38 19 34]\n",
      " [85 78 98 48 11 27]\n",
      " [67 81 96 42  9 31]\n",
      " [62 53 65 25 10 24]\n",
      " [80 66 92 34 20 34]\n",
      " [71 56 72 19 11 19]]\n",
      "\n",
      "Class 0 (Foi_Thong):\n",
      "TP: 74, FP: 365, TN: 1121, FN: 272\n",
      "\n",
      "Class 1 (Hang_Kra_Rog_Phu_Phan_ST1):\n",
      "TP: 78, FP: 347, TN: 1138, FN: 269\n",
      "\n",
      "Class 2 (Hang_Suea_Sakonnakhon_TT1):\n",
      "TP: 96, FP: 417, TN: 1089, FN: 230\n",
      "\n",
      "Class 3 (Kroeng_Krawia):\n",
      "TP: 25, FP: 181, TN: 1412, FN: 214\n",
      "\n",
      "Class 4 (Tanao_Si_Kan_Khaw_WA1):\n",
      "TP: 20, FP: 60, TN: 1446, FN: 306\n",
      "\n",
      "Class 5 (Tanao_Si_Kan_Sang_RD1):\n",
      "TP: 19, FP: 150, TN: 1434, FN: 229\n",
      "\n",
      "\n",
      "Label: Foi_Thong\n",
      "Precision: 0.169\n",
      "Recall: 0.214\n",
      "F1-score: 0.189\n",
      "Label: Hang_Kra_Rog_Phu_Phan_ST1\n",
      "Precision: 0.184\n",
      "Recall: 0.225\n",
      "F1-score: 0.202\n",
      "Label: Hang_Suea_Sakonnakhon_TT1\n",
      "Precision: 0.187\n",
      "Recall: 0.294\n",
      "F1-score: 0.229\n",
      "Label: Kroeng_Krawia\n",
      "Precision: 0.121\n",
      "Recall: 0.105\n",
      "F1-score: 0.112\n",
      "Label: Tanao_Si_Kan_Khaw_WA1\n",
      "Precision: 0.250\n",
      "Recall: 0.061\n",
      "F1-score: 0.0985\n",
      "Label: Tanao_Si_Kan_Sang_RD1\n",
      "Precision: 0.112\n",
      "Recall: 0.077\n",
      "F1-score: 0.0911\n",
      "\n",
      "\n",
      "RestNet50\n",
      "Accuracy: 0.7663755416870117\n",
      "Loss: 0.7015868425369263\n"
     ]
    },
    {
     "ename": "ValueError",
     "evalue": "setting an array element with a sequence. The requested array has an inhomogeneous shape after 1 dimensions. The detected shape was (322,) + inhomogeneous part.",
     "output_type": "error",
     "traceback": [
      "\u001b[0;31m---------------------------------------------------------------------------\u001b[0m",
      "\u001b[0;31mAttributeError\u001b[0m                            Traceback (most recent call last)",
      "File \u001b[0;32m/opt/conda/lib/python3.8/site-packages/numpy/core/fromnumeric.py:2033\u001b[0m, in \u001b[0;36mshape\u001b[0;34m(a)\u001b[0m\n\u001b[1;32m   2032\u001b[0m \u001b[38;5;28;01mtry\u001b[39;00m:\n\u001b[0;32m-> 2033\u001b[0m     result \u001b[38;5;241m=\u001b[39m \u001b[43ma\u001b[49m\u001b[38;5;241;43m.\u001b[39;49m\u001b[43mshape\u001b[49m\n\u001b[1;32m   2034\u001b[0m \u001b[38;5;28;01mexcept\u001b[39;00m \u001b[38;5;167;01mAttributeError\u001b[39;00m:\n",
      "\u001b[0;31mAttributeError\u001b[0m: 'list' object has no attribute 'shape'",
      "\nDuring handling of the above exception, another exception occurred:\n",
      "\u001b[0;31mValueError\u001b[0m                                Traceback (most recent call last)",
      "Cell \u001b[0;32mIn[2], line 142\u001b[0m\n\u001b[1;32m    139\u001b[0m weights\u001b[38;5;241m=\u001b[39m model\u001b[38;5;241m.\u001b[39mget_weights()\n\u001b[1;32m    141\u001b[0m \u001b[38;5;66;03m# Print the shape of the weights and biases\u001b[39;00m\n\u001b[0;32m--> 142\u001b[0m \u001b[38;5;28mprint\u001b[39m(\u001b[38;5;124m\"\u001b[39m\u001b[38;5;124mWeights shape:\u001b[39m\u001b[38;5;124m\"\u001b[39m, \u001b[43mnp\u001b[49m\u001b[38;5;241;43m.\u001b[39;49m\u001b[43mshape\u001b[49m\u001b[43m(\u001b[49m\u001b[43mweights\u001b[49m\u001b[43m)\u001b[49m)\n\u001b[1;32m    143\u001b[0m \u001b[38;5;66;03m# print(\"Biases shape:\", np.shape(biases))\u001b[39;00m\n",
      "File \u001b[0;32m<__array_function__ internals>:200\u001b[0m, in \u001b[0;36mshape\u001b[0;34m(*args, **kwargs)\u001b[0m\n",
      "File \u001b[0;32m/opt/conda/lib/python3.8/site-packages/numpy/core/fromnumeric.py:2035\u001b[0m, in \u001b[0;36mshape\u001b[0;34m(a)\u001b[0m\n\u001b[1;32m   2033\u001b[0m     result \u001b[38;5;241m=\u001b[39m a\u001b[38;5;241m.\u001b[39mshape\n\u001b[1;32m   2034\u001b[0m \u001b[38;5;28;01mexcept\u001b[39;00m \u001b[38;5;167;01mAttributeError\u001b[39;00m:\n\u001b[0;32m-> 2035\u001b[0m     result \u001b[38;5;241m=\u001b[39m \u001b[43masarray\u001b[49m\u001b[43m(\u001b[49m\u001b[43ma\u001b[49m\u001b[43m)\u001b[49m\u001b[38;5;241m.\u001b[39mshape\n\u001b[1;32m   2036\u001b[0m \u001b[38;5;28;01mreturn\u001b[39;00m result\n",
      "\u001b[0;31mValueError\u001b[0m: setting an array element with a sequence. The requested array has an inhomogeneous shape after 1 dimensions. The detected shape was (322,) + inhomogeneous part."
     ]
    }
   ],
   "source": [
    "import tensorflow as tf\n",
    "from tensorflow.keras.applications.resnet50 import ResNet50\n",
    "from tensorflow.keras.preprocessing.image import ImageDataGenerator\n",
    "\n",
    "import matplotlib.pyplot as plt\n",
    "import numpy as np\n",
    "import tensorflow.keras as keras\n",
    "from sklearn.metrics import confusion_matrix, f1_score\n",
    "\n",
    "# Set the path to your dataset\n",
    "train_dir = '/data/dataset'\n",
    "test_dir = '/data/dataset'\n",
    "\n",
    "# Set the image size and batch size\n",
    "img_size = (299, 299)\n",
    "batch_size = 32\n",
    "\n",
    "# Create a data generator for the training set\n",
    "train_datagen = ImageDataGenerator(\n",
    "    rescale=1./255,\n",
    "    rotation_range=20,\n",
    "    width_shift_range=0.2,\n",
    "    height_shift_range=0.2,\n",
    "    shear_range=0.2,\n",
    "    zoom_range=0.2,\n",
    "    horizontal_flip=True,\n",
    "    fill_mode='nearest'\n",
    ")\n",
    "\n",
    "train_generator = train_datagen.flow_from_directory(\n",
    "    train_dir,\n",
    "    target_size=img_size,\n",
    "    batch_size=batch_size,\n",
    "    class_mode='categorical'\n",
    ")\n",
    "\n",
    "# Load the ResNet50 model\n",
    "base_model = ResNet50(weights='imagenet', include_top=False, input_shape=(299, 299, 3))\n",
    "\n",
    "# Add a new classification layer\n",
    "x = base_model.output\n",
    "x = tf.keras.layers.Flatten()(x)\n",
    "x = tf.keras.layers.Dense(1024, activation='relu')(x)\n",
    "\n",
    "predictions = tf.keras.layers.Dense(6, activation='softmax')(x)\n",
    "\n",
    "# Combine the base model and classification layer\n",
    "model = tf.keras.models.Model(inputs=base_model.input, outputs=predictions)\n",
    "\n",
    "# Freeze the base model's layers\n",
    "for layer in base_model.layers:\n",
    "    layer.trainable = False\n",
    "\n",
    "# Compile the model\n",
    "model.compile(optimizer='adam', loss='categorical_crossentropy', metrics=['accuracy'])\n",
    "\n",
    "# Evaluate the model on the test set\n",
    "test_datagen = ImageDataGenerator(rescale=1./255)\n",
    "\n",
    "test_generator = test_datagen.flow_from_directory(\n",
    "    test_dir,\n",
    "    target_size=img_size,\n",
    "    batch_size=batch_size,\n",
    "    class_mode='categorical'\n",
    ")\n",
    "\n",
    "test_loss, test_acc = model.evaluate(test_generator)\n",
    "print('Test accuracy:', test_acc)\n",
    "\n",
    "# Save the model\n",
    "model.save('/code/model/ResNet50.h5')\n",
    "labels = ['Foi_Thong', 'Hang_Kra_Rog_Phu_Phan_ST1', 'Hang_Suea_Sakonnakhon_TT1', 'Kroeng_Krawia', 'Tanao_Si_Kan_Khaw_WA1', 'Tanao_Si_Kan_Sang_RD1']\n",
    "\n",
    "# Train the model and record validation loss and accuracy after each epoch\n",
    "history = model.fit(train_generator, epochs=10, validation_data=test_generator)\n",
    "\n",
    "test_loss, test_acc = model.evaluate(test_generator)\n",
    "print('Test accuracy:', test_acc)\n",
    "print('Test loss:', test_loss)\n",
    "\n",
    "print(\"\\n\")\n",
    "\n",
    "# Generate predictions for the test set\n",
    "Y_pred = model.predict(test_generator)\n",
    "y_pred = np.argmax(Y_pred, axis=1)\n",
    "\n",
    "# Calculate the confusion matrix and print it\n",
    "confusion_matrix = confusion_matrix(test_generator.classes, y_pred)\n",
    "print(\"Confusion Matrix:\\n\",confusion_matrix)\n",
    "\n",
    "num_classes = len(labels)\n",
    "# Calculate TP, FP, TN, and FN for each class\n",
    "for i in range(num_classes):\n",
    "    TP = confusion_matrix[i, i]\n",
    "    FP = tf.reduce_sum(confusion_matrix[:, i]) - TP\n",
    "    FN = tf.reduce_sum(confusion_matrix[i, :]) - TP\n",
    "    TN = tf.reduce_sum(confusion_matrix) - TP - FP - FN\n",
    "    print(f\"\\nClass {i} ({labels[i]}):\")\n",
    "    print(f\"TP: {TP}, FP: {FP}, TN: {TN}, FN: {FN}\")\n",
    "\n",
    "\n",
    "print(\"\\n\")\n",
    "# Calculate precision, recall, and f1-score\n",
    "precision = np.diag(confusion_matrix) / np.sum(confusion_matrix, axis=0)\n",
    "recall = np.diag(confusion_matrix) / np.sum(confusion_matrix, axis=1)\n",
    "f1 = 2 * precision * recall / (precision + recall)\n",
    "\n",
    "# Print precision, recall, and f1-score\n",
    "for i, label in enumerate(labels):\n",
    "    print(f\"Label: {label}\")\n",
    "    print(f\"Precision: {precision[i]:.3f}\")\n",
    "    print(f\"Recall: {recall[i]:.3f}\")\n",
    "    print(f\"F1-score: {f1[i]:.3}\")\n",
    "\n",
    "print(\"\\n\")\n",
    "print(\"RestNet50\")\n",
    "\n",
    "plt.plot(history.history['accuracy'])\n",
    "plt.plot(history.history['val_accuracy'])\n",
    "plt.title('Model Accuracy')\n",
    "print('Accuracy:', test_acc)\n",
    "plt.ylabel('Accuracy')\n",
    "plt.xlabel('Epoch')\n",
    "plt.legend(['Train', 'Validation'], loc='upper left')\n",
    "plt.xticks(range(len(history.history['accuracy'])))\n",
    "plt.show()\n",
    "\n",
    "plt.plot(history.history['loss'])\n",
    "plt.plot(history.history['val_loss'])\n",
    "plt.title('Model Loss')\n",
    "print('Loss:', test_loss)\n",
    "plt.ylabel('Loss')\n",
    "plt.xlabel('Epoch')\n",
    "plt.legend(['Train', 'Validation'], loc='upper left')\n",
    "plt.xticks(range(len(history.history['loss'])))\n",
    "plt.show()\n",
    "\n",
    "# Get the weights and biases of the model\n",
    "weights= model.get_weights()\n",
    "\n",
    "# Print the shape of the weights and biases\n",
    "print(\"Weights shape:\", np.shape(weights))\n",
    "# print(\"Biases shape:\", np.shape(biases))"
   ]
  },
  {
   "cell_type": "code",
   "execution_count": 3,
   "metadata": {
    "scrolled": false
   },
   "outputs": [
    {
     "ename": "FileNotFoundError",
     "evalue": "[Errno 2] No such file or directory: '/data/test/test1.JPG'",
     "output_type": "error",
     "traceback": [
      "\u001b[0;31m---------------------------------------------------------------------------\u001b[0m",
      "\u001b[0;31mFileNotFoundError\u001b[0m                         Traceback (most recent call last)",
      "Cell \u001b[0;32mIn[3], line 6\u001b[0m\n\u001b[1;32m      3\u001b[0m \u001b[38;5;28;01mimport\u001b[39;00m \u001b[38;5;21;01mtensorflow\u001b[39;00m\u001b[38;5;21;01m.\u001b[39;00m\u001b[38;5;21;01mkeras\u001b[39;00m \u001b[38;5;28;01mas\u001b[39;00m \u001b[38;5;21;01mkeras\u001b[39;00m\n\u001b[1;32m      5\u001b[0m \u001b[38;5;66;03m#figure 1\u001b[39;00m\n\u001b[0;32m----> 6\u001b[0m new_img \u001b[38;5;241m=\u001b[39m \u001b[43mtf\u001b[49m\u001b[38;5;241;43m.\u001b[39;49m\u001b[43mkeras\u001b[49m\u001b[38;5;241;43m.\u001b[39;49m\u001b[43mpreprocessing\u001b[49m\u001b[38;5;241;43m.\u001b[39;49m\u001b[43mimage\u001b[49m\u001b[38;5;241;43m.\u001b[39;49m\u001b[43mload_img\u001b[49m\u001b[43m(\u001b[49m\u001b[38;5;124;43m'\u001b[39;49m\u001b[38;5;124;43m/data/test/test1.JPG\u001b[39;49m\u001b[38;5;124;43m'\u001b[39;49m\u001b[43m,\u001b[49m\u001b[43m \u001b[49m\u001b[43mtarget_size\u001b[49m\u001b[38;5;241;43m=\u001b[39;49m\u001b[43mimg_size\u001b[49m\u001b[43m)\u001b[49m\n\u001b[1;32m      8\u001b[0m plt\u001b[38;5;241m.\u001b[39mimshow(new_img)\n\u001b[1;32m      9\u001b[0m plt\u001b[38;5;241m.\u001b[39mshow()\n",
      "File \u001b[0;32m/opt/conda/lib/python3.8/site-packages/keras/utils/image_utils.py:422\u001b[0m, in \u001b[0;36mload_img\u001b[0;34m(path, grayscale, color_mode, target_size, interpolation, keep_aspect_ratio)\u001b[0m\n\u001b[1;32m    420\u001b[0m     \u001b[38;5;28;01mif\u001b[39;00m \u001b[38;5;28misinstance\u001b[39m(path, pathlib\u001b[38;5;241m.\u001b[39mPath):\n\u001b[1;32m    421\u001b[0m         path \u001b[38;5;241m=\u001b[39m \u001b[38;5;28mstr\u001b[39m(path\u001b[38;5;241m.\u001b[39mresolve())\n\u001b[0;32m--> 422\u001b[0m     \u001b[38;5;28;01mwith\u001b[39;00m \u001b[38;5;28;43mopen\u001b[39;49m\u001b[43m(\u001b[49m\u001b[43mpath\u001b[49m\u001b[43m,\u001b[49m\u001b[43m \u001b[49m\u001b[38;5;124;43m\"\u001b[39;49m\u001b[38;5;124;43mrb\u001b[39;49m\u001b[38;5;124;43m\"\u001b[39;49m\u001b[43m)\u001b[49m \u001b[38;5;28;01mas\u001b[39;00m f:\n\u001b[1;32m    423\u001b[0m         img \u001b[38;5;241m=\u001b[39m pil_image\u001b[38;5;241m.\u001b[39mopen(io\u001b[38;5;241m.\u001b[39mBytesIO(f\u001b[38;5;241m.\u001b[39mread()))\n\u001b[1;32m    424\u001b[0m \u001b[38;5;28;01melse\u001b[39;00m:\n",
      "\u001b[0;31mFileNotFoundError\u001b[0m: [Errno 2] No such file or directory: '/data/test/test1.JPG'"
     ]
    }
   ],
   "source": [
    "# Use the model to make predictions on new images\n",
    "import matplotlib.pyplot as plt\n",
    "import tensorflow.keras as keras\n",
    "\n",
    "#figure 1\n",
    "new_img = tf.keras.preprocessing.image.load_img('/data/test/test1.', target_size=img_size)\n",
    "\n",
    "plt.imshow(new_img)\n",
    "plt.show()\n",
    "\n",
    "new_img = tf.keras.preprocessing.image.img_to_array(new_img)\n",
    "#print(new_img)\n",
    "new_img = new_img / 255.0\n",
    "new_img = tf.expand_dims(new_img, 0)\n",
    "\n",
    "prediction = model.predict(new_img)\n",
    "class_index = tf.argmax(prediction, axis=1)\n",
    "\n",
    "print('\\n')\n",
    "predicted_label = labels[class_index[0]]\n",
    "print('Predicted label:', predicted_label)\n",
    "\n",
    "prediction_values = {}\n",
    "for i, label in enumerate(labels):\n",
    "    prediction_values[label] = round(prediction[0][i], 2)\n",
    "\n",
    "print('Prediction values:', prediction_values)\n"
   ]
  },
  {
   "cell_type": "code",
   "execution_count": 1,
   "metadata": {},
   "outputs": [
    {
     "name": "stdout",
     "output_type": "stream",
     "text": [
      "Model Structure : \n",
      "\n"
     ]
    },
    {
     "ename": "NameError",
     "evalue": "name 'model' is not defined",
     "output_type": "error",
     "traceback": [
      "\u001b[0;31m---------------------------------------------------------------------------\u001b[0m",
      "\u001b[0;31mNameError\u001b[0m                                 Traceback (most recent call last)",
      "Cell \u001b[0;32mIn[1], line 2\u001b[0m\n\u001b[1;32m      1\u001b[0m \u001b[38;5;28mprint\u001b[39m(\u001b[38;5;124m\"\u001b[39m\u001b[38;5;124mModel Structure : \u001b[39m\u001b[38;5;130;01m\\n\u001b[39;00m\u001b[38;5;124m\"\u001b[39m)\n\u001b[0;32m----> 2\u001b[0m \u001b[43mmodel\u001b[49m\u001b[38;5;241m.\u001b[39msummary()\n",
      "\u001b[0;31mNameError\u001b[0m: name 'model' is not defined"
     ]
    }
   ],
   "source": [
    "print(\"Model Structure : \\n\")\n",
    "model.summary()"
   ]
  },
  {
   "cell_type": "code",
   "execution_count": null,
   "metadata": {},
   "outputs": [],
   "source": []
  }
 ],
 "metadata": {
  "kernelspec": {
   "display_name": "Python 3 (ipykernel)",
   "language": "python",
   "name": "python3"
  },
  "language_info": {
   "codemirror_mode": {
    "name": "ipython",
    "version": 3
   },
   "file_extension": ".py",
   "mimetype": "text/x-python",
   "name": "python",
   "nbconvert_exporter": "python",
   "pygments_lexer": "ipython3",
   "version": "3.8.1"
  }
 },
 "nbformat": 4,
 "nbformat_minor": 4
}
